{
 "cells": [
  {
   "cell_type": "code",
   "execution_count": null,
   "metadata": {},
   "outputs": [],
   "source": [
    "import pandas as pd\n",
    "import numpy as np \n",
    "import string\n",
    "import random\n",
    "\n",
    "import nltk\n",
    "from nltk.corpus import brown\n",
    "from nltk.corpus import reuters\n",
    "#nltk.download('reuters')\n",
    "\n",
    "from nltk.tokenize import word_tokenize\n",
    "from nltk.tokenize import RegexpTokenizer\n",
    "\n",
    "from nltk.corpus import stopwords\n",
    "\n",
    "from nltk.stem.porter import PorterStemmer\n",
    "from nltk.stem import SnowballStemmer"
   ]
  },
  {
   "cell_type": "code",
   "execution_count": null,
   "metadata": {
    "tags": [
     "outputPrepend"
    ]
   },
   "outputs": [],
   "source": [
    "reuters.raw(fileids=['test/14832'])\n",
    "\n",
    "\n"
   ]
  },
  {
   "cell_type": "code",
   "execution_count": 18,
   "metadata": {
    "tags": [
     "outputPrepend",
     "outputPrepend",
     "outputPrepend",
     "outputPrepend",
     "outputPrepend",
     "outputPrepend",
     "outputPrepend",
     "outputPrepend",
     "outputPrepend",
     "outputPrepend",
     "outputPrepend",
     "outputPrepend",
     "outputPrepend",
     "outputPrepend",
     "outputPrepend",
     "outputPrepend",
     "outputPrepend",
     "outputPrepend",
     "outputPrepend",
     "outputPrepend",
     "outputPrepend",
     "outputPrepend",
     "outputPrepend",
     "outputPrepend",
     "outputPrepend",
     "outputPrepend",
     "outputPrepend",
     "outputPrepend",
     "outputPrepend",
     "outputPrepend",
     "outputPrepend",
     "outputPrepend",
     "outputPrepend",
     "outputPrepend",
     "outputPrepend",
     "outputPrepend",
     "outputPrepend",
     "outputPrepend",
     "outputPrepend",
     "outputPrepend"
    ]
   },
   "outputs": [
    {
     "output_type": "stream",
     "name": "stdout",
     "text": "JAPAN TO REVISE LONGTERM ENERGY DEMAND DOWNWARDS\n  The Ministry of International Trade and\n  Industry MITI will revise its longterm energy supplydemand\n  outlook by August to meet a forecast downtrend in Japanese\n  energy demand ministry officials said\n      MITI is expected to lower the projection for primary energy\n  supplies in the year 2000 to 550 mln kilolitres kl from 600\n  mln they said\n      The decision follows the emergence of structural changes in\n  Japanese industry following the rise in the value of the yen\n  and a decline in domestic electric power demand\n      MITI is planning to work out a revised energy supplydemand\n  outlook through deliberations of committee meetings of the\n  Agency of Natural Resources and Energy the officials said\n      They said MITI will also review the breakdown of energy\n  supply sources including oil nuclear coal and natural gas\n      Nuclear energy provided the bulk of Japans electric power\n  in the fiscal year ended March 31 supplying an estimated 27\n  pct on a kilowatthour basis followed by oil 23 pct and\n  liquefied natural gas 21 pct they noted\n  \n\n\n"
    }
   ],
   "source": [
    "# remove punctuation from all DOCs \n",
    "punctuations = set(string.punctuation)\n",
    "docslist = []\n",
    "count=0\n",
    "for index, i in  enumerate(reuters.fileids()):\n",
    "    text = reuters.raw(fileids=[i])\n",
    "    text = ''.join(ch for ch in text if ch not in punctuations)\n",
    "    docslist.append(text)\n",
    "    \n",
    "print(docslist[2])"
   ]
  },
  {
   "cell_type": "code",
   "execution_count": 23,
   "metadata": {},
   "outputs": [
    {
     "output_type": "stream",
     "name": "stdout",
     "text": "['JAPAN', 'TO', 'REVISE', 'LONGTERM', 'ENERGY', 'DEMAND', 'DOWNWARDS', 'The', 'Ministry', 'of', 'International', 'Trade', 'and', 'Industry', 'MITI', 'will', 'revise', 'its', 'longterm', 'energy', 'supplydemand', 'outlook', 'by', 'August', 'to', 'meet', 'a', 'forecast', 'downtrend', 'in', 'Japanese', 'energy', 'demand', 'ministry', 'officials', 'said', 'MITI', 'is', 'expected', 'to', 'lower', 'the', 'projection', 'for', 'primary', 'energy', 'supplies', 'in', 'the', 'year', '2000', 'to', '550', 'mln', 'kilolitres', 'kl', 'from', '600', 'mln', 'they', 'said', 'The', 'decision', 'follows', 'the', 'emergence', 'of', 'structural', 'changes', 'in', 'Japanese', 'industry', 'following', 'the', 'rise', 'in', 'the', 'value', 'of', 'the', 'yen', 'and', 'a', 'decline', 'in', 'domestic', 'electric', 'power', 'demand', 'MITI', 'is', 'planning', 'to', 'work', 'out', 'a', 'revised', 'energy', 'supplydemand', 'outlook', 'through', 'deliberations', 'of', 'committee', 'meetings', 'of', 'the', 'Agency', 'of', 'Natural', 'Resources', 'and', 'Energy', 'the', 'officials', 'said', 'They', 'said', 'MITI', 'will', 'also', 'review', 'the', 'breakdown', 'of', 'energy', 'supply', 'sources', 'including', 'oil', 'nuclear', 'coal', 'and', 'natural', 'gas', 'Nuclear', 'energy', 'provided', 'the', 'bulk', 'of', 'Japans', 'electric', 'power', 'in', 'the', 'fiscal', 'year', 'ended', 'March', '31', 'supplying', 'an', 'estimated', '27', 'pct', 'on', 'a', 'kilowatthour', 'basis', 'followed', 'by', 'oil', '23', 'pct', 'and', 'liquefied', 'natural', 'gas', '21', 'pct', 'they', 'noted']\n"
    }
   ],
   "source": [
    "#tokenize words in all DOCS\n",
    "tokenized_doc = []\n",
    "\n",
    "for doc in docslist:\n",
    "    tokentext = word_tokenize(doc)\n",
    "    tokenized_doc.append(tokentext)\n",
    "    \n",
    "print(tokenized_doc[2])"
   ]
  },
  {
   "cell_type": "code",
   "execution_count": 21,
   "metadata": {},
   "outputs": [
    {
     "output_type": "execute_result",
     "data": {
      "text/plain": "['japan',\n 'to',\n 'revise',\n 'longterm',\n 'energy',\n 'demand',\n 'downwards',\n 'the',\n 'ministry',\n 'of']"
     },
     "metadata": {},
     "execution_count": 21
    }
   ],
   "source": [
    "for x in range(len(reuters.fileids())):\n",
    "    lowers = [word.lower() for word in tokenized_doc[x]]\n",
    "    tokenized_doc[x] = lowers\n",
    "\n",
    "tokenized_doc[2][0:10]"
   ]
  },
  {
   "cell_type": "code",
   "execution_count": 27,
   "metadata": {
    "tags": [
     "outputPrepend"
    ]
   },
   "outputs": [],
   "source": [
    "# Creating inverse index which gives document number for each document and where word appears\n",
    "\n",
    "#first we need to create a list of all words \n",
    "l = tokenized_doc\n",
    "allwords = [item for sublist in l for item in sublist]\n",
    "wordsunique = set(allwords)\n",
    "wordsunique = list(wordsunique)\n"
   ]
  },
  {
   "cell_type": "code",
   "execution_count": 32,
   "metadata": {},
   "outputs": [],
   "source": [
    "# creating functions for TD-IDF / BM25\n",
    "import math\n",
    "from textblob import TextBlob as tb\n",
    "\n",
    "def tf(word, doc):\n",
    "    return doc.count(word) / len(doc)\n",
    "\n",
    "def n_containing(word, doclist):\n",
    "    return sum(1 for doc in doclist if word in doc)\n",
    "\n",
    "def idf(word, doclist):\n",
    "    return math.log(len(doclist) / (0.01 + n_containing(word, doclist)))\n",
    "\n",
    "def tfidf(word, doc, doclist):\n",
    "    return (tf(word, doc) * idf(word, doclist))"
   ]
  },
  {
   "cell_type": "code",
   "execution_count": null,
   "metadata": {},
   "outputs": [],
   "source": [
    "# Creating dictonary of words"
   ]
  }
 ],
 "metadata": {
  "language_info": {
   "codemirror_mode": {
    "name": "ipython",
    "version": 3
   },
   "file_extension": ".py",
   "mimetype": "text/x-python",
   "name": "python",
   "nbconvert_exporter": "python",
   "pygments_lexer": "ipython3",
   "version": "3.8.0-final"
  },
  "orig_nbformat": 2,
  "kernelspec": {
   "name": "python38032bitd37838a0bbc64f33801bb6f569018b45",
   "display_name": "Python 3.8.0 32-bit"
  }
 },
 "nbformat": 4,
 "nbformat_minor": 2
}